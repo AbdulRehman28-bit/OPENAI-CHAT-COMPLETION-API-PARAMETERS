{
  "nbformat": 4,
  "nbformat_minor": 0,
  "metadata": {
    "colab": {
      "provenance": []
    },
    "kernelspec": {
      "name": "python3",
      "display_name": "Python 3"
    },
    "language_info": {
      "name": "python"
    }
  },
  "cells": [
    {
      "cell_type": "code",
      "execution_count": 1,
      "metadata": {
        "id": "p0yikAPYtU-u"
      },
      "outputs": [],
      "source": [
        "# Installation\n",
        "!pip install --upgrade --quiet google-genai"
      ]
    },
    {
      "cell_type": "code",
      "source": [
        "# API Key setup\n",
        "from google.colab import userdata\n",
        "GEMINI_API_KEY: str = userdata.get('Apikey')\n",
        "if(GEMINI_API_KEY):\n",
        "  print(\"API Key found\")\n",
        "else:\n",
        "  print(\"API Key not found\")"
      ],
      "metadata": {
        "colab": {
          "base_uri": "https://localhost:8080/"
        },
        "id": "gwauhs8ItgPc",
        "outputId": "d0b6572d-3a48-4c51-c711-1a87c48ce89d"
      },
      "execution_count": 2,
      "outputs": [
        {
          "output_type": "stream",
          "name": "stdout",
          "text": [
            "API Key found\n"
          ]
        }
      ]
    },
    {
      "cell_type": "code",
      "source": [
        "# Initilize and configure the client\n",
        "# Select the model\n",
        "from google import genai\n",
        "from google.genai import Client\n",
        "\n",
        "client: Client = genai.Client(\n",
        "    api_key=GEMINI_API_KEY,\n",
        ")\n",
        "\n",
        "model: str = \"gemini-2.0-flash-exp\""
      ],
      "metadata": {
        "id": "-I7eB4Wbts3V"
      },
      "execution_count": 3,
      "outputs": []
    },
    {
      "cell_type": "code",
      "source": [
        "import time\n",
        "\n",
        "def upload_video(video_file_name):\n",
        "  video_file = client.files.upload(path=video_file_name)\n",
        "  while video_file.state == \"PROCESSING\":\n",
        "      print('Waiting for video to be processed.')\n",
        "      time.sleep(10)\n",
        "      video_file = client.files.get(name=video_file.name or \"\")\n",
        "\n",
        "  if video_file.state == \"FAILED\":\n",
        "    raise ValueError(video_file.state)\n",
        "  print(f'Video processing complete: ' + (video_file.uri or \"\"))\n",
        "\n",
        "  return video_file\n",
        "\n",
        "intro_video = upload_video('/content/WhatsApp Video 2024-12-28 at 13.01.06_b60fe3b7.mp4')\n"
      ],
      "metadata": {
        "colab": {
          "base_uri": "https://localhost:8080/"
        },
        "id": "nIDjQx9Utw_8",
        "outputId": "5759a05a-f881-4c7a-d3e9-7ba6c674ed13"
      },
      "execution_count": 4,
      "outputs": [
        {
          "output_type": "stream",
          "name": "stdout",
          "text": [
            "Waiting for video to be processed.\n",
            "Video processing complete: https://generativelanguage.googleapis.com/v1beta/files/m33wpcwvzrf6\n"
          ]
        }
      ]
    },
    {
      "cell_type": "code",
      "source": [
        "from IPython.display import display, Markdown\n",
        "from google.genai.types import Content, Part\n",
        "prompt = \"\"\"Who is in the video\n",
        "\n",
        "         \"\"\"\n",
        "\n",
        "video = intro_video\n",
        "\n",
        "response = client.models.generate_content(\n",
        "    model=model,\n",
        "    contents=[\n",
        "        Content(\n",
        "            role=\"user\",\n",
        "            parts=[\n",
        "                Part.from_uri(\n",
        "                    file_uri=video.uri or \"\",\n",
        "                    mime_type=video.mime_type or \"\"),\n",
        "                ]),\n",
        "        prompt,\n",
        "    ]\n",
        ")\n",
        "\n",
        "display(Markdown(response.text))"
      ],
      "metadata": {
        "colab": {
          "base_uri": "https://localhost:8080/",
          "height": 46
        },
        "id": "iJOPwLI4uaVm",
        "outputId": "b671ce07-3dd3-43dc-994c-f84d523aedd3"
      },
      "execution_count": 7,
      "outputs": [
        {
          "output_type": "display_data",
          "data": {
            "text/plain": [
              "<IPython.core.display.Markdown object>"
            ],
            "text/markdown": "The person in the video is Abdul Rehman Baber."
          },
          "metadata": {}
        }
      ]
    },
    {
      "cell_type": "code",
      "source": [
        "prompt = \"\"\"what is his age?\n",
        "\n",
        "         \"\"\"\n",
        "\n",
        "video = intro_video\n",
        "\n",
        "response = client.models.generate_content(\n",
        "    model=model,\n",
        "    contents=[\n",
        "        Content(\n",
        "            role=\"user\",\n",
        "            parts=[\n",
        "                Part.from_uri(\n",
        "                    file_uri=video.uri or \"\",\n",
        "                    mime_type=video.mime_type or \"\"),\n",
        "                ]),\n",
        "        prompt,\n",
        "    ]\n",
        ")\n",
        "\n",
        "display(Markdown(response.text))"
      ],
      "metadata": {
        "colab": {
          "base_uri": "https://localhost:8080/",
          "height": 46
        },
        "id": "QBxmFVQLujEd",
        "outputId": "1a2b9052-1881-4e1d-a2bd-4f00deaf8616"
      },
      "execution_count": 8,
      "outputs": [
        {
          "output_type": "display_data",
          "data": {
            "text/plain": [
              "<IPython.core.display.Markdown object>"
            ],
            "text/markdown": "He is 21 years old."
          },
          "metadata": {}
        }
      ]
    },
    {
      "cell_type": "code",
      "source": [
        "prompt = \"\"\"Does he is Asian?\n",
        "\n",
        "         \"\"\"\n",
        "\n",
        "video = intro_video\n",
        "\n",
        "response = client.models.generate_content(\n",
        "    model=model,\n",
        "    contents=[\n",
        "        Content(\n",
        "            role=\"user\",\n",
        "            parts=[\n",
        "                Part.from_uri(\n",
        "                    file_uri=video.uri or \"\",\n",
        "                    mime_type=video.mime_type or \"\"),\n",
        "                ]),\n",
        "        prompt,\n",
        "    ]\n",
        ")\n",
        "\n",
        "display(Markdown(response.text))"
      ],
      "metadata": {
        "colab": {
          "base_uri": "https://localhost:8080/",
          "height": 46
        },
        "id": "AI9VtBx0xdzm",
        "outputId": "1d723de6-1000-455d-cb0e-e3cfc54c3af3"
      },
      "execution_count": 9,
      "outputs": [
        {
          "output_type": "display_data",
          "data": {
            "text/plain": [
              "<IPython.core.display.Markdown object>"
            ],
            "text/markdown": "Yes, he appears to be of South Asian descent."
          },
          "metadata": {}
        }
      ]
    },
    {
      "cell_type": "code",
      "source": [
        "prompt = \"\"\"Describe his dressing.\n",
        "\n",
        "         \"\"\"\n",
        "\n",
        "video = intro_video\n",
        "\n",
        "response = client.models.generate_content(\n",
        "    model=model,\n",
        "    contents=[\n",
        "        Content(\n",
        "            role=\"user\",\n",
        "            parts=[\n",
        "                Part.from_uri(\n",
        "                    file_uri=video.uri or \"\",\n",
        "                    mime_type=video.mime_type or \"\"),\n",
        "                ]),\n",
        "        prompt,\n",
        "    ]\n",
        ")\n",
        "\n",
        "display(Markdown(response.text))"
      ],
      "metadata": {
        "colab": {
          "base_uri": "https://localhost:8080/",
          "height": 46
        },
        "id": "QOAHq0Rixi8S",
        "outputId": "5339376a-fa1b-4f69-92cc-b0deb38c1fe1"
      },
      "execution_count": 10,
      "outputs": [
        {
          "output_type": "display_data",
          "data": {
            "text/plain": [
              "<IPython.core.display.Markdown object>"
            ],
            "text/markdown": "Certainly! In the video, the young man is wearing a dark-colored jacket over a green, hooded sweatshirt."
          },
          "metadata": {}
        }
      ]
    },
    {
      "cell_type": "code",
      "source": [
        "prompt = \"\"\"What you can say about his future?\n",
        "\n",
        "         \"\"\"\n",
        "\n",
        "video = intro_video\n",
        "\n",
        "response = client.models.generate_content(\n",
        "    model=model,\n",
        "    contents=[\n",
        "        Content(\n",
        "            role=\"user\",\n",
        "            parts=[\n",
        "                Part.from_uri(\n",
        "                    file_uri=video.uri or \"\",\n",
        "                    mime_type=video.mime_type or \"\"),\n",
        "                ]),\n",
        "        prompt,\n",
        "    ]\n",
        ")\n",
        "\n",
        "display(Markdown(response.text))"
      ],
      "metadata": {
        "colab": {
          "base_uri": "https://localhost:8080/",
          "height": 326
        },
        "id": "10iiuMQxyOwq",
        "outputId": "0093924f-22e9-4d66-960a-1cc9b779e351"
      },
      "execution_count": 13,
      "outputs": [
        {
          "output_type": "display_data",
          "data": {
            "text/plain": [
              "<IPython.core.display.Markdown object>"
            ],
            "text/markdown": "Certainly! Based on the information in the video, here's what we can infer about the future of the person in the video:\n\n**Career:**\n* He's currently studying law, which suggests he intends to pursue a career as a lawyer or in the legal field.\n* Given that he's actively studying law, his near future likely involves completing his education and passing the necessary exams. \n* His long-term future could involve practicing law in some capacity, potentially in a specific area of interest.\n\n**Location:** \n* He mentions being from Lahore, so it's possible he may stay and work in or near that city for at least the short term after graduation.\n\n**Personal:**\n* We don’t have enough information from the video to comment on his personal life or the future of his personal life.\n\n**Overall:**\n* It seems like he has a clear educational goal and is working towards a specific career path. \n* His future is likely tied to his legal studies.\n\nPlease note that this is based solely on the limited details provided in the video. There are many other factors that can influence his future, like personal choices, goals and external circumstances."
          },
          "metadata": {}
        }
      ]
    },
    {
      "cell_type": "code",
      "source": [
        "prompt = \"\"\"\"What details are provided about their background?\",\n",
        "    \"What objects or settings are visible in the video?\"\n",
        "\n",
        "         \"\"\"\n",
        "\n",
        "video = intro_video\n",
        "\n",
        "response = client.models.generate_content(\n",
        "    model=model,\n",
        "    contents=[\n",
        "        Content(\n",
        "            role=\"user\",\n",
        "            parts=[\n",
        "                Part.from_uri(\n",
        "                    file_uri=video.uri or \"\",\n",
        "                    mime_type=video.mime_type or \"\"),\n",
        "                ]),\n",
        "        prompt,\n",
        "    ]\n",
        ")\n",
        "\n",
        "display(Markdown(response.text))"
      ],
      "metadata": {
        "colab": {
          "base_uri": "https://localhost:8080/",
          "height": 244
        },
        "id": "GQI2LlPZygkZ",
        "outputId": "6cc35bb2-b90e-427b-d363-e9974f726990"
      },
      "execution_count": 14,
      "outputs": [
        {
          "output_type": "display_data",
          "data": {
            "text/plain": [
              "<IPython.core.display.Markdown object>"
            ],
            "text/markdown": "Certainly! Here's the information from the video you provided:\n\n**Background Details:**\n\n*   **Name:** The person introduces themselves as Abdur Rehman Babar.\n*   **Age:** They state they are 21 years old.\n*   **Location:** They mention being from Lahore.\n*   **Occupation/Studies:** They are currently studying law.\n\n**Visible Objects and Settings:**\n\n*   **Room:** The setting appears to be an indoor room with light green walls.\n*   **Curtains:** There are red and gold patterned curtains behind them.\n*   **Furniture:** A black or dark cabinet is visible on the left of the screen. A part of a mirror or a glass frame can also be seen behind the person.\n*   **Clothing:** The person is wearing glasses, a green hooded sweatshirt, and a dark-colored jacket."
          },
          "metadata": {}
        }
      ]
    }
  ]
}